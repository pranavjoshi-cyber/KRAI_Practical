{
 "cells": [
  {
   "cell_type": "code",
   "execution_count": 2,
   "id": "c48dace8",
   "metadata": {},
   "outputs": [
    {
     "data": {
      "text/plain": [
       "array([10, 11, 12, 13, 14, 15, 16, 17, 18, 19])"
      ]
     },
     "execution_count": 2,
     "metadata": {},
     "output_type": "execute_result"
    }
   ],
   "source": [
    "import pandas as pd\n",
    "import numpy as np\n",
    "x = np.arange(10,20)\n",
    "x"
   ]
  },
  {
   "cell_type": "code",
   "execution_count": 3,
   "id": "c12c09ff",
   "metadata": {},
   "outputs": [
    {
     "data": {
      "text/plain": [
       "array([ 2,  1,  4,  5,  8, 12, 18, 25, 96, 48])"
      ]
     },
     "execution_count": 3,
     "metadata": {},
     "output_type": "execute_result"
    }
   ],
   "source": [
    "y = np.array([2,1,4,5,8,12,18,25,96,48])\n",
    "y"
   ]
  },
  {
   "cell_type": "code",
   "execution_count": 4,
   "id": "6154785f",
   "metadata": {},
   "outputs": [
    {
     "data": {
      "text/plain": [
       "array([[1.        , 0.75864029],\n",
       "       [0.75864029, 1.        ]])"
      ]
     },
     "execution_count": 4,
     "metadata": {},
     "output_type": "execute_result"
    }
   ],
   "source": [
    "r = np.corrcoef(x,y)\n",
    "r"
   ]
  },
  {
   "cell_type": "code",
   "execution_count": 7,
   "id": "81de80ce",
   "metadata": {},
   "outputs": [
    {
     "data": {
      "text/plain": [
       "<bound method NDFrame.head of       Unnamed: 0    ID                                     Title  Year  Age  \\\n",
       "0              0     1                              The Irishman  2019  18+   \n",
       "1              1     2                                    Dangal  2016   7+   \n",
       "2              2     3  David Attenborough: A Life on Our Planet  2020   7+   \n",
       "3              3     4         Lagaan: Once Upon a Time in India  2001   7+   \n",
       "4              4     5                                      Roma  2018  18+   \n",
       "...          ...   ...                                       ...   ...  ...   \n",
       "9510        9510  9511                        Most Wanted Sharks  2020  NaN   \n",
       "9511        9511  9512             Doc McStuffins: The Doc Is In  2020  NaN   \n",
       "9512        9512  9513                     Ultimate Viking Sword  2019  NaN   \n",
       "9513        9513  9514           Hunt for the Abominable Snowman  2011  NaN   \n",
       "9514        9514  9515       Women of Impact: Changing the World  2019   7+   \n",
       "\n",
       "     Rotten Tomatoes  Netflix  Hulu  Prime Video  Disney+  Type  \n",
       "0             98/100        1     0            0        0     0  \n",
       "1             97/100        1     0            0        0     0  \n",
       "2             95/100        1     0            0        0     0  \n",
       "3             94/100        1     0            0        0     0  \n",
       "4             94/100        1     0            0        0     0  \n",
       "...              ...      ...   ...          ...      ...   ...  \n",
       "9510          14/100        0     0            0        1     0  \n",
       "9511          13/100        0     0            0        1     0  \n",
       "9512          13/100        0     0            0        1     0  \n",
       "9513          10/100        0     0            0        1     0  \n",
       "9514          10/100        0     0            0        1     0  \n",
       "\n",
       "[9515 rows x 11 columns]>"
      ]
     },
     "execution_count": 7,
     "metadata": {},
     "output_type": "execute_result"
    }
   ],
   "source": [
    "movies = pd.read_csv(\"MoviesOnStreamingPlatforms.csv\")\n",
    "movies.head"
   ]
  },
  {
   "cell_type": "code",
   "execution_count": 8,
   "id": "8472211d",
   "metadata": {},
   "outputs": [
    {
     "data": {
      "text/plain": [
       "0.7586402890911867"
      ]
     },
     "execution_count": 8,
     "metadata": {},
     "output_type": "execute_result"
    }
   ],
   "source": [
    "r[0,1]"
   ]
  },
  {
   "cell_type": "code",
   "execution_count": 10,
   "id": "1431eafc",
   "metadata": {},
   "outputs": [
    {
     "data": {
      "text/plain": [
       "SignificanceResult(statistic=0.9757575757575757, pvalue=1.4675461874042197e-06)"
      ]
     },
     "execution_count": 10,
     "metadata": {},
     "output_type": "execute_result"
    }
   ],
   "source": [
    "import scipy.stats\n",
    "x = np.arange(10,20)\n",
    "y = np.array([2,1,4,5,8,12,18,25,96,48])\n",
    "scipy.stats.pearsonr(x,y)  # pearson's r\n",
    "scipy.stats.spearmanr(x,y)   # spearman's rho"
   ]
  },
  {
   "cell_type": "code",
   "execution_count": null,
   "id": "d794c69a",
   "metadata": {},
   "outputs": [],
   "source": []
  },
  {
   "cell_type": "code",
   "execution_count": 11,
   "id": "c1ed8a0f",
   "metadata": {},
   "outputs": [
    {
     "data": {
      "text/html": [
       "<div>\n",
       "<style scoped>\n",
       "    .dataframe tbody tr th:only-of-type {\n",
       "        vertical-align: middle;\n",
       "    }\n",
       "\n",
       "    .dataframe tbody tr th {\n",
       "        vertical-align: top;\n",
       "    }\n",
       "\n",
       "    .dataframe thead th {\n",
       "        text-align: right;\n",
       "    }\n",
       "</style>\n",
       "<table border=\"1\" class=\"dataframe\">\n",
       "  <thead>\n",
       "    <tr style=\"text-align: right;\">\n",
       "      <th></th>\n",
       "      <th>Unnamed: 0</th>\n",
       "      <th>ID</th>\n",
       "      <th>Title</th>\n",
       "      <th>Year</th>\n",
       "      <th>Age</th>\n",
       "      <th>Rotten Tomatoes</th>\n",
       "      <th>Netflix</th>\n",
       "      <th>Hulu</th>\n",
       "      <th>Prime Video</th>\n",
       "      <th>Disney+</th>\n",
       "      <th>Type</th>\n",
       "    </tr>\n",
       "  </thead>\n",
       "  <tbody>\n",
       "    <tr>\n",
       "      <th>0</th>\n",
       "      <td>0</td>\n",
       "      <td>1</td>\n",
       "      <td>The Irishman</td>\n",
       "      <td>2019</td>\n",
       "      <td>18+</td>\n",
       "      <td>98/100</td>\n",
       "      <td>1</td>\n",
       "      <td>0</td>\n",
       "      <td>0</td>\n",
       "      <td>0</td>\n",
       "      <td>0</td>\n",
       "    </tr>\n",
       "    <tr>\n",
       "      <th>1</th>\n",
       "      <td>1</td>\n",
       "      <td>2</td>\n",
       "      <td>Dangal</td>\n",
       "      <td>2016</td>\n",
       "      <td>7+</td>\n",
       "      <td>97/100</td>\n",
       "      <td>1</td>\n",
       "      <td>0</td>\n",
       "      <td>0</td>\n",
       "      <td>0</td>\n",
       "      <td>0</td>\n",
       "    </tr>\n",
       "    <tr>\n",
       "      <th>2</th>\n",
       "      <td>2</td>\n",
       "      <td>3</td>\n",
       "      <td>David Attenborough: A Life on Our Planet</td>\n",
       "      <td>2020</td>\n",
       "      <td>7+</td>\n",
       "      <td>95/100</td>\n",
       "      <td>1</td>\n",
       "      <td>0</td>\n",
       "      <td>0</td>\n",
       "      <td>0</td>\n",
       "      <td>0</td>\n",
       "    </tr>\n",
       "    <tr>\n",
       "      <th>3</th>\n",
       "      <td>3</td>\n",
       "      <td>4</td>\n",
       "      <td>Lagaan: Once Upon a Time in India</td>\n",
       "      <td>2001</td>\n",
       "      <td>7+</td>\n",
       "      <td>94/100</td>\n",
       "      <td>1</td>\n",
       "      <td>0</td>\n",
       "      <td>0</td>\n",
       "      <td>0</td>\n",
       "      <td>0</td>\n",
       "    </tr>\n",
       "    <tr>\n",
       "      <th>4</th>\n",
       "      <td>4</td>\n",
       "      <td>5</td>\n",
       "      <td>Roma</td>\n",
       "      <td>2018</td>\n",
       "      <td>18+</td>\n",
       "      <td>94/100</td>\n",
       "      <td>1</td>\n",
       "      <td>0</td>\n",
       "      <td>0</td>\n",
       "      <td>0</td>\n",
       "      <td>0</td>\n",
       "    </tr>\n",
       "    <tr>\n",
       "      <th>...</th>\n",
       "      <td>...</td>\n",
       "      <td>...</td>\n",
       "      <td>...</td>\n",
       "      <td>...</td>\n",
       "      <td>...</td>\n",
       "      <td>...</td>\n",
       "      <td>...</td>\n",
       "      <td>...</td>\n",
       "      <td>...</td>\n",
       "      <td>...</td>\n",
       "      <td>...</td>\n",
       "    </tr>\n",
       "    <tr>\n",
       "      <th>9510</th>\n",
       "      <td>9510</td>\n",
       "      <td>9511</td>\n",
       "      <td>Most Wanted Sharks</td>\n",
       "      <td>2020</td>\n",
       "      <td>NaN</td>\n",
       "      <td>14/100</td>\n",
       "      <td>0</td>\n",
       "      <td>0</td>\n",
       "      <td>0</td>\n",
       "      <td>1</td>\n",
       "      <td>0</td>\n",
       "    </tr>\n",
       "    <tr>\n",
       "      <th>9511</th>\n",
       "      <td>9511</td>\n",
       "      <td>9512</td>\n",
       "      <td>Doc McStuffins: The Doc Is In</td>\n",
       "      <td>2020</td>\n",
       "      <td>NaN</td>\n",
       "      <td>13/100</td>\n",
       "      <td>0</td>\n",
       "      <td>0</td>\n",
       "      <td>0</td>\n",
       "      <td>1</td>\n",
       "      <td>0</td>\n",
       "    </tr>\n",
       "    <tr>\n",
       "      <th>9512</th>\n",
       "      <td>9512</td>\n",
       "      <td>9513</td>\n",
       "      <td>Ultimate Viking Sword</td>\n",
       "      <td>2019</td>\n",
       "      <td>NaN</td>\n",
       "      <td>13/100</td>\n",
       "      <td>0</td>\n",
       "      <td>0</td>\n",
       "      <td>0</td>\n",
       "      <td>1</td>\n",
       "      <td>0</td>\n",
       "    </tr>\n",
       "    <tr>\n",
       "      <th>9513</th>\n",
       "      <td>9513</td>\n",
       "      <td>9514</td>\n",
       "      <td>Hunt for the Abominable Snowman</td>\n",
       "      <td>2011</td>\n",
       "      <td>NaN</td>\n",
       "      <td>10/100</td>\n",
       "      <td>0</td>\n",
       "      <td>0</td>\n",
       "      <td>0</td>\n",
       "      <td>1</td>\n",
       "      <td>0</td>\n",
       "    </tr>\n",
       "    <tr>\n",
       "      <th>9514</th>\n",
       "      <td>9514</td>\n",
       "      <td>9515</td>\n",
       "      <td>Women of Impact: Changing the World</td>\n",
       "      <td>2019</td>\n",
       "      <td>7+</td>\n",
       "      <td>10/100</td>\n",
       "      <td>0</td>\n",
       "      <td>0</td>\n",
       "      <td>0</td>\n",
       "      <td>1</td>\n",
       "      <td>0</td>\n",
       "    </tr>\n",
       "  </tbody>\n",
       "</table>\n",
       "<p>9515 rows × 11 columns</p>\n",
       "</div>"
      ],
      "text/plain": [
       "      Unnamed: 0    ID                                     Title  Year  Age  \\\n",
       "0              0     1                              The Irishman  2019  18+   \n",
       "1              1     2                                    Dangal  2016   7+   \n",
       "2              2     3  David Attenborough: A Life on Our Planet  2020   7+   \n",
       "3              3     4         Lagaan: Once Upon a Time in India  2001   7+   \n",
       "4              4     5                                      Roma  2018  18+   \n",
       "...          ...   ...                                       ...   ...  ...   \n",
       "9510        9510  9511                        Most Wanted Sharks  2020  NaN   \n",
       "9511        9511  9512             Doc McStuffins: The Doc Is In  2020  NaN   \n",
       "9512        9512  9513                     Ultimate Viking Sword  2019  NaN   \n",
       "9513        9513  9514           Hunt for the Abominable Snowman  2011  NaN   \n",
       "9514        9514  9515       Women of Impact: Changing the World  2019   7+   \n",
       "\n",
       "     Rotten Tomatoes  Netflix  Hulu  Prime Video  Disney+  Type  \n",
       "0             98/100        1     0            0        0     0  \n",
       "1             97/100        1     0            0        0     0  \n",
       "2             95/100        1     0            0        0     0  \n",
       "3             94/100        1     0            0        0     0  \n",
       "4             94/100        1     0            0        0     0  \n",
       "...              ...      ...   ...          ...      ...   ...  \n",
       "9510          14/100        0     0            0        1     0  \n",
       "9511          13/100        0     0            0        1     0  \n",
       "9512          13/100        0     0            0        1     0  \n",
       "9513          10/100        0     0            0        1     0  \n",
       "9514          10/100        0     0            0        1     0  \n",
       "\n",
       "[9515 rows x 11 columns]"
      ]
     },
     "execution_count": 11,
     "metadata": {},
     "output_type": "execute_result"
    }
   ],
   "source": [
    "movies"
   ]
  },
  {
   "cell_type": "code",
   "execution_count": 12,
   "id": "52af4dd9",
   "metadata": {},
   "outputs": [
    {
     "name": "stderr",
     "output_type": "stream",
     "text": [
      "C:\\Users\\Pranav\\AppData\\Local\\Temp\\ipykernel_13444\\1738869300.py:1: FutureWarning: The default value of numeric_only in DataFrame.corr is deprecated. In a future version, it will default to False. Select only valid columns or specify the value of numeric_only to silence this warning.\n",
      "  movies.corr()\n"
     ]
    },
    {
     "data": {
      "text/html": [
       "<div>\n",
       "<style scoped>\n",
       "    .dataframe tbody tr th:only-of-type {\n",
       "        vertical-align: middle;\n",
       "    }\n",
       "\n",
       "    .dataframe tbody tr th {\n",
       "        vertical-align: top;\n",
       "    }\n",
       "\n",
       "    .dataframe thead th {\n",
       "        text-align: right;\n",
       "    }\n",
       "</style>\n",
       "<table border=\"1\" class=\"dataframe\">\n",
       "  <thead>\n",
       "    <tr style=\"text-align: right;\">\n",
       "      <th></th>\n",
       "      <th>Unnamed: 0</th>\n",
       "      <th>ID</th>\n",
       "      <th>Year</th>\n",
       "      <th>Netflix</th>\n",
       "      <th>Hulu</th>\n",
       "      <th>Prime Video</th>\n",
       "      <th>Disney+</th>\n",
       "      <th>Type</th>\n",
       "    </tr>\n",
       "  </thead>\n",
       "  <tbody>\n",
       "    <tr>\n",
       "      <th>Unnamed: 0</th>\n",
       "      <td>1.000000</td>\n",
       "      <td>1.000000</td>\n",
       "      <td>-0.334904</td>\n",
       "      <td>-0.844152</td>\n",
       "      <td>-0.086986</td>\n",
       "      <td>0.541981</td>\n",
       "      <td>0.500118</td>\n",
       "      <td>NaN</td>\n",
       "    </tr>\n",
       "    <tr>\n",
       "      <th>ID</th>\n",
       "      <td>1.000000</td>\n",
       "      <td>1.000000</td>\n",
       "      <td>-0.334904</td>\n",
       "      <td>-0.844152</td>\n",
       "      <td>-0.086986</td>\n",
       "      <td>0.541981</td>\n",
       "      <td>0.500118</td>\n",
       "      <td>NaN</td>\n",
       "    </tr>\n",
       "    <tr>\n",
       "      <th>Year</th>\n",
       "      <td>-0.334904</td>\n",
       "      <td>-0.334904</td>\n",
       "      <td>1.000000</td>\n",
       "      <td>0.306645</td>\n",
       "      <td>0.080422</td>\n",
       "      <td>-0.243679</td>\n",
       "      <td>-0.177892</td>\n",
       "      <td>NaN</td>\n",
       "    </tr>\n",
       "    <tr>\n",
       "      <th>Netflix</th>\n",
       "      <td>-0.844152</td>\n",
       "      <td>-0.844152</td>\n",
       "      <td>0.306645</td>\n",
       "      <td>1.000000</td>\n",
       "      <td>-0.253300</td>\n",
       "      <td>-0.647814</td>\n",
       "      <td>-0.256625</td>\n",
       "      <td>NaN</td>\n",
       "    </tr>\n",
       "    <tr>\n",
       "      <th>Hulu</th>\n",
       "      <td>-0.086986</td>\n",
       "      <td>-0.086986</td>\n",
       "      <td>0.080422</td>\n",
       "      <td>-0.253300</td>\n",
       "      <td>1.000000</td>\n",
       "      <td>-0.239705</td>\n",
       "      <td>-0.108368</td>\n",
       "      <td>NaN</td>\n",
       "    </tr>\n",
       "    <tr>\n",
       "      <th>Prime Video</th>\n",
       "      <td>0.541981</td>\n",
       "      <td>0.541981</td>\n",
       "      <td>-0.243679</td>\n",
       "      <td>-0.647814</td>\n",
       "      <td>-0.239705</td>\n",
       "      <td>1.000000</td>\n",
       "      <td>-0.276499</td>\n",
       "      <td>NaN</td>\n",
       "    </tr>\n",
       "    <tr>\n",
       "      <th>Disney+</th>\n",
       "      <td>0.500118</td>\n",
       "      <td>0.500118</td>\n",
       "      <td>-0.177892</td>\n",
       "      <td>-0.256625</td>\n",
       "      <td>-0.108368</td>\n",
       "      <td>-0.276499</td>\n",
       "      <td>1.000000</td>\n",
       "      <td>NaN</td>\n",
       "    </tr>\n",
       "    <tr>\n",
       "      <th>Type</th>\n",
       "      <td>NaN</td>\n",
       "      <td>NaN</td>\n",
       "      <td>NaN</td>\n",
       "      <td>NaN</td>\n",
       "      <td>NaN</td>\n",
       "      <td>NaN</td>\n",
       "      <td>NaN</td>\n",
       "      <td>NaN</td>\n",
       "    </tr>\n",
       "  </tbody>\n",
       "</table>\n",
       "</div>"
      ],
      "text/plain": [
       "             Unnamed: 0        ID      Year   Netflix      Hulu  Prime Video  \\\n",
       "Unnamed: 0     1.000000  1.000000 -0.334904 -0.844152 -0.086986     0.541981   \n",
       "ID             1.000000  1.000000 -0.334904 -0.844152 -0.086986     0.541981   \n",
       "Year          -0.334904 -0.334904  1.000000  0.306645  0.080422    -0.243679   \n",
       "Netflix       -0.844152 -0.844152  0.306645  1.000000 -0.253300    -0.647814   \n",
       "Hulu          -0.086986 -0.086986  0.080422 -0.253300  1.000000    -0.239705   \n",
       "Prime Video    0.541981  0.541981 -0.243679 -0.647814 -0.239705     1.000000   \n",
       "Disney+        0.500118  0.500118 -0.177892 -0.256625 -0.108368    -0.276499   \n",
       "Type                NaN       NaN       NaN       NaN       NaN          NaN   \n",
       "\n",
       "              Disney+  Type  \n",
       "Unnamed: 0   0.500118   NaN  \n",
       "ID           0.500118   NaN  \n",
       "Year        -0.177892   NaN  \n",
       "Netflix     -0.256625   NaN  \n",
       "Hulu        -0.108368   NaN  \n",
       "Prime Video -0.276499   NaN  \n",
       "Disney+      1.000000   NaN  \n",
       "Type              NaN   NaN  "
      ]
     },
     "execution_count": 12,
     "metadata": {},
     "output_type": "execute_result"
    }
   ],
   "source": [
    "movies.corr()"
   ]
  },
  {
   "cell_type": "code",
   "execution_count": 13,
   "id": "e9e31c46",
   "metadata": {},
   "outputs": [
    {
     "name": "stdout",
     "output_type": "stream",
     "text": [
      "             Unnamed: 0        ID      Year   Netflix      Hulu  Prime Video  \\\n",
      "Unnamed: 0     1.000000  1.000000 -0.334904 -0.844152 -0.086986     0.541981   \n",
      "ID             1.000000  1.000000 -0.334904 -0.844152 -0.086986     0.541981   \n",
      "Year          -0.334904 -0.334904  1.000000  0.306645  0.080422    -0.243679   \n",
      "Netflix       -0.844152 -0.844152  0.306645  1.000000 -0.253300    -0.647814   \n",
      "Hulu          -0.086986 -0.086986  0.080422 -0.253300  1.000000    -0.239705   \n",
      "Prime Video    0.541981  0.541981 -0.243679 -0.647814 -0.239705     1.000000   \n",
      "Disney+        0.500118  0.500118 -0.177892 -0.256625 -0.108368    -0.276499   \n",
      "Type                NaN       NaN       NaN       NaN       NaN          NaN   \n",
      "\n",
      "              Disney+  Type  \n",
      "Unnamed: 0   0.500118   NaN  \n",
      "ID           0.500118   NaN  \n",
      "Year        -0.177892   NaN  \n",
      "Netflix     -0.256625   NaN  \n",
      "Hulu        -0.108368   NaN  \n",
      "Prime Video -0.276499   NaN  \n",
      "Disney+      1.000000   NaN  \n",
      "Type              NaN   NaN  \n",
      "Unnamed: 0    -0.334904\n",
      "ID            -0.334904\n",
      "Year           1.000000\n",
      "Netflix        0.306645\n",
      "Hulu           0.080422\n",
      "Prime Video   -0.243679\n",
      "Disney+       -0.177892\n",
      "Type                NaN\n",
      "Name: Year, dtype: float64\n"
     ]
    },
    {
     "name": "stderr",
     "output_type": "stream",
     "text": [
      "C:\\Users\\Pranav\\AppData\\Local\\Temp\\ipykernel_13444\\2797198986.py:1: FutureWarning: The default value of numeric_only in DataFrame.corr is deprecated. In a future version, it will default to False. Select only valid columns or specify the value of numeric_only to silence this warning.\n",
      "  correlations = movies.corr()\n"
     ]
    }
   ],
   "source": [
    "correlations = movies.corr()\n",
    "print(correlations)\n",
    "print(correlations['Year'])"
   ]
  },
  {
   "cell_type": "code",
   "execution_count": 14,
   "id": "d3c54d9d",
   "metadata": {},
   "outputs": [
    {
     "data": {
      "image/png": "[encoded data removed]",
      "text/plain": [
       "<Figure size 640x480 with 2 Axes>"
      ]
     },
     "metadata": {},
     "output_type": "display_data"
    }
   ],
   "source": [
    "import seaborn as sns\n",
    "import matplotlib.pyplot as plt\n",
    "sns.heatmap(correlations)\n",
    "plt.show()"
   ]
  },
  {
   "cell_type": "code",
   "execution_count": null,
   "id": "2574b2eb",
   "metadata": {},
   "outputs": [],
   "source": []
  }
 ],
 "metadata": {
  "kernelspec": {
   "display_name": "Python 3 (ipykernel)",
   "language": "python",
   "name": "python3"
  },
  "language_info": {
   "codemirror_mode": {
    "name": "ipython",
    "version": 3
   },
   "file_extension": ".py",
   "mimetype": "text/x-python",
   "name": "python",
   "nbconvert_exporter": "python",
   "pygments_lexer": "ipython3",
   "version": "3.10.9"
  }
 },
 "nbformat": 4,
 "nbformat_minor": 5
}
